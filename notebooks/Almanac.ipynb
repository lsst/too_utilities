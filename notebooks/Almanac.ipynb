{
 "cells": [
  {
   "cell_type": "code",
   "execution_count": null,
   "id": "7929a2b2-4437-4185-ba12-20274eb9e0c2",
   "metadata": {},
   "outputs": [],
   "source": [
    "# This cell is only for setting example parameter defaults - gets replaced by sidecar.\n",
    "day_obs = \"20250723\"\n",
    "timezone = \"Chile/Continental\"\n",
    "#timezone = \"UTC\""
   ]
  },
  {
   "cell_type": "markdown",
   "id": "f3ac5b1f-b036-4213-ae6d-700dcad8a7a6",
   "metadata": {},
   "source": [
    "# Almanac for {{ params.day_obs }} \n",
    "\n",
    "* [Almanac](#Almanac)\n"
   ]
  },
  {
   "cell_type": "code",
   "execution_count": null,
   "id": "17629b1c-626e-417f-8bdc-20332107534d",
   "metadata": {},
   "outputs": [],
   "source": [
    "import os\n",
    "import warnings\n",
    "from math import floor\n",
    "import numpy as np\n",
    "import healpy as hp\n",
    "import matplotlib.pylab as plt\n",
    "from cycler import cycler\n",
    "import colorcet as cc\n",
    "\n",
    "import pandas as pd\n",
    "from pandas import option_context\n",
    "from IPython.display import display, Markdown, HTML\n",
    "\n",
    "import datetime\n",
    "from astropy.time import Time, TimeDelta\n",
    "import astropy.units as u\n",
    "import astropy\n",
    "astropy.utils.iers.conf.iers_degraded_accuracy = 'ignore'\n",
    "\n",
    "import datetime\n",
    "import pytz\n",
    "\n",
    "import datetime\n",
    "from zoneinfo import ZoneInfo\n",
    "\n",
    "try:\n",
    "    tz = ZoneInfo(timezone)\n",
    "    tz_utc = ZoneInfo(\"UTC\")\n",
    "except ZoneInfoNotFoundError:\n",
    "    print(\"Timezone should be a string recognizable to `ZoneInfo`.\")\n",
    "    print(\"Using Chile/Continental (+UTC) backup.\")\n",
    "    tz = ZoneInfo(\"Chile/Continental\")\n",
    "    tz_utc = ZoneInfo(\"UTC\")\n",
    "\n",
    "from rubin_scheduler.site_models import Almanac\n",
    "from rubin_scheduler.utils import Site\n",
    "\n",
    "if 'usdf' in os.getenv(\"EXTERNAL_INSTANCE_URL\", \"\"):\n",
    "    os.environ[\"RUBIN_SIM_DATA_DIR\"] = \"/sdf/data/rubin/shared/rubin_sim_data\""
   ]
  },
  {
   "cell_type": "code",
   "execution_count": null,
   "id": "a0eda54a-f5fa-4f1a-9068-af721e185471",
   "metadata": {},
   "outputs": [],
   "source": [
    "str_day_obs = f\"{str(day_obs)[0:4]}-{str(day_obs)[4:6]}-{str(day_obs)[6:]}\"\n",
    "day_obs_time = Time(f\"{str_day_obs}T12:00:00\", format='isot', scale='tai')\n",
    "\n",
    "t_start = Time(f\"{str_day_obs}T12:00:00\", format='isot', scale='tai')\n",
    "t_end = Time(f\"{str_day_obs}T12:00:00\", format='isot', scale='tai') + TimeDelta(1, format='jd')"
   ]
  },
  {
   "cell_type": "markdown",
   "id": "f0273835-d52b-4fb2-82d9-966e8612e57a",
   "metadata": {},
   "source": [
    "<a id=\"Almanac\"></a>"
   ]
  },
  {
   "cell_type": "code",
   "execution_count": null,
   "id": "02e75664-53f5-4748-83d4-479c1697db0d",
   "metadata": {},
   "outputs": [],
   "source": [
    "## Almanac ## \n",
    "\n",
    "display(Markdown(f\"## Almanac information for dayobs {day_obs}\"))\n",
    "site = Site('LSST')\n",
    "almanac = Almanac()\n",
    "night_events = almanac.get_sunset_info(evening_date=day_obs, longitude=site.longitude_rad)\n",
    "sunset_12 = Time(night_events['sun_n12_setting'], format='mjd', scale='utc') \n",
    "sunrise_12 = Time(night_events['sun_n12_rising'], format='mjd', scale='utc')\n",
    "sunset = Time(night_events['sunset'], format='mjd', scale='utc') \n",
    "sunrise = Time(night_events['sunrise'], format='mjd', scale='utc')\n",
    "night_length = sunrise_12.mjd - sunset_12.mjd\n",
    "\n",
    "display(Markdown(f\"0-deg sunset at {sunset.to_datetime(timezone=tz_utc).strftime('%x %X')} UTC  -- {sunset.to_datetime(timezone=tz).strftime('%x %X')} {timezone}\"))\n",
    "display(Markdown(f\"0-deg sunrise at {sunrise.to_datetime(timezone=tz_utc).strftime('%x %X')} UTC --  {sunrise.to_datetime(timezone=tz).strftime('%x %X')} {timezone}\"))\n",
    "display(Markdown(f\"12-deg sunset at {sunset_12.to_datetime(timezone=tz_utc).strftime('%x %X')} UTC  -- {sunset.to_datetime(timezone=tz).strftime('%x %X')} {timezone}\"))\n",
    "display(Markdown(f\"12-deg sunrise at {sunrise_12.to_datetime(timezone=tz_utc).strftime('%x %X')} UTC --  {sunrise.to_datetime(timezone=tz).strftime('%x %X')} {timezone}\"))\n",
    "display(Markdown(f\"allowing for a (-12deg) night of {night_length * 24 :.2f} hours\"))\n",
    "moon_phase = almanac.get_sun_moon_positions(sunset_12.mjd)['moon_phase']\n",
    "if not np.isnan(night_events['moonrise']):\n",
    "    moonrise = Time(night_events['moonrise'], format='mjd', scale='utc')\n",
    "    display(Markdown(f\"Moonrise is at {moonrise.to_datetime(timezone=tz_utc).strftime('%x %X')} UTC -- {moonrise.to_datetime(timezone=tz).strftime('%x %X')} {timezone}\"))\n",
    "if not np.isnan(night_events['moonset']):\n",
    "    moonset = Time(night_events['moonset'], format='mjd', scale='utc')\n",
    "    display(Markdown(f\"Moonset at {moonset.to_datetime(timezone=tz_utc).strftime('%x %X')} UTC -- {moonset.to_datetime(timezone=tz).strftime('%x %X')} {timezone}\"))\n",
    "display(Markdown(f\"Moon phase is {moon_phase :.1f} (0=new, 100=full).\"))"
   ]
  }
 ],
 "metadata": {
  "kernelspec": {
   "display_name": "Python 3 (ipykernel)",
   "language": "python",
   "name": "python3"
  },
  "language_info": {
   "codemirror_mode": {
    "name": "ipython",
    "version": 3
   },
   "file_extension": ".py",
   "mimetype": "text/x-python",
   "name": "python",
   "nbconvert_exporter": "python",
   "pygments_lexer": "ipython3",
   "version": "3.13.1"
  }
 },
 "nbformat": 4,
 "nbformat_minor": 5
}
